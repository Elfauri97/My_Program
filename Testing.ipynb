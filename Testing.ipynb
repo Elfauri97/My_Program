{
 "cells": [
  {
   "cell_type": "code",
   "execution_count": 1,
   "id": "709e17f7-7878-47b2-9e08-cb26fe05f884",
   "metadata": {},
   "outputs": [
    {
     "name": "stdout",
     "output_type": "stream",
     "text": [
      "Mohammad is online in GitHub\n"
     ]
    }
   ],
   "source": [
    "print(\"Mohammad is online in GitHub\")"
   ]
  },
  {
   "cell_type": "code",
   "execution_count": null,
   "id": "4a4b39c5-9e97-45b8-8aae-d533e7ed9bf0",
   "metadata": {},
   "outputs": [],
   "source": []
  }
 ],
 "metadata": {
  "kernelspec": {
   "display_name": "Python 3 (ipykernel)",
   "language": "python",
   "name": "python3"
  },
  "language_info": {
   "codemirror_mode": {
    "name": "ipython",
    "version": 3
   },
   "file_extension": ".py",
   "mimetype": "text/x-python",
   "name": "python",
   "nbconvert_exporter": "python",
   "pygments_lexer": "ipython3",
   "version": "3.12.3"
  }
 },
 "nbformat": 4,
 "nbformat_minor": 5
}
