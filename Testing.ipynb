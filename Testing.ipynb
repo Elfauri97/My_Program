{
 "cells": [
  {
   "cell_type": "code",
   "execution_count": null,
   "id": "709e17f7-7878-47b2-9e08-cb26fe05f884",
   "metadata": {},
   "outputs": [],
   "source": []
  }
 ],
 "metadata": {
  "kernelspec": {
   "display_name": "",
   "name": ""
  },
  "language_info": {
   "name": ""
  }
 },
 "nbformat": 4,
 "nbformat_minor": 5
}
